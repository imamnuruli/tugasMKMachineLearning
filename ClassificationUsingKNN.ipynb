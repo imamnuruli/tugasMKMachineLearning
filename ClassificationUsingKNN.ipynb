{
 "cells": [
  {
   "cell_type": "code",
   "execution_count": 141,
   "metadata": {},
   "outputs": [],
   "source": [
    "import pandas as pd\n",
    "import numpy as np\n",
    "import collections"
   ]
  },
  {
   "cell_type": "markdown",
   "metadata": {},
   "source": [
    "## Load Data"
   ]
  },
  {
   "cell_type": "code",
   "execution_count": 142,
   "metadata": {},
   "outputs": [],
   "source": [
    "train = pd.read_csv(\"data_train.csv\")\n",
    "test = pd.read_csv(\"data_test.csv\")"
   ]
  },
  {
   "cell_type": "code",
   "execution_count": 143,
   "metadata": {},
   "outputs": [
    {
     "data": {
      "text/html": [
       "<div>\n",
       "<style scoped>\n",
       "    .dataframe tbody tr th:only-of-type {\n",
       "        vertical-align: middle;\n",
       "    }\n",
       "\n",
       "    .dataframe tbody tr th {\n",
       "        vertical-align: top;\n",
       "    }\n",
       "\n",
       "    .dataframe thead th {\n",
       "        text-align: right;\n",
       "    }\n",
       "</style>\n",
       "<table border=\"1\" class=\"dataframe\">\n",
       "  <thead>\n",
       "    <tr style=\"text-align: right;\">\n",
       "      <th></th>\n",
       "      <th>att1</th>\n",
       "      <th>att2</th>\n",
       "      <th>att3</th>\n",
       "      <th>att4</th>\n",
       "      <th>att5</th>\n",
       "      <th>att6</th>\n",
       "      <th>class</th>\n",
       "    </tr>\n",
       "  </thead>\n",
       "  <tbody>\n",
       "    <tr>\n",
       "      <td>0</td>\n",
       "      <td>2.5</td>\n",
       "      <td>besar</td>\n",
       "      <td>hijau</td>\n",
       "      <td>48</td>\n",
       "      <td>77.0</td>\n",
       "      <td>3</td>\n",
       "      <td>A</td>\n",
       "    </tr>\n",
       "    <tr>\n",
       "      <td>1</td>\n",
       "      <td>NaN</td>\n",
       "      <td>besar</td>\n",
       "      <td>hijau</td>\n",
       "      <td>36</td>\n",
       "      <td>62.0</td>\n",
       "      <td>3</td>\n",
       "      <td>B</td>\n",
       "    </tr>\n",
       "    <tr>\n",
       "      <td>2</td>\n",
       "      <td>1.2</td>\n",
       "      <td>besar</td>\n",
       "      <td>merah</td>\n",
       "      <td>36</td>\n",
       "      <td>63.0</td>\n",
       "      <td>3</td>\n",
       "      <td>A</td>\n",
       "    </tr>\n",
       "    <tr>\n",
       "      <td>3</td>\n",
       "      <td>8.2</td>\n",
       "      <td>sedang</td>\n",
       "      <td>biru</td>\n",
       "      <td>12</td>\n",
       "      <td>32.0</td>\n",
       "      <td>2</td>\n",
       "      <td>C</td>\n",
       "    </tr>\n",
       "    <tr>\n",
       "      <td>4</td>\n",
       "      <td>4.4</td>\n",
       "      <td>sedang</td>\n",
       "      <td>merah</td>\n",
       "      <td>36</td>\n",
       "      <td>74.0</td>\n",
       "      <td>3</td>\n",
       "      <td>A</td>\n",
       "    </tr>\n",
       "    <tr>\n",
       "      <td>5</td>\n",
       "      <td>5.7</td>\n",
       "      <td>kecil</td>\n",
       "      <td>hijau</td>\n",
       "      <td>24</td>\n",
       "      <td>42.0</td>\n",
       "      <td>3</td>\n",
       "      <td>B</td>\n",
       "    </tr>\n",
       "    <tr>\n",
       "      <td>6</td>\n",
       "      <td>7.7</td>\n",
       "      <td>kecil</td>\n",
       "      <td>merah</td>\n",
       "      <td>12</td>\n",
       "      <td>20.0</td>\n",
       "      <td>2</td>\n",
       "      <td>C</td>\n",
       "    </tr>\n",
       "    <tr>\n",
       "      <td>7</td>\n",
       "      <td>8.5</td>\n",
       "      <td>sedang</td>\n",
       "      <td>merah</td>\n",
       "      <td>24</td>\n",
       "      <td>NaN</td>\n",
       "      <td>3</td>\n",
       "      <td>C</td>\n",
       "    </tr>\n",
       "    <tr>\n",
       "      <td>8</td>\n",
       "      <td>10.9</td>\n",
       "      <td>besar</td>\n",
       "      <td>biru</td>\n",
       "      <td>12</td>\n",
       "      <td>16.0</td>\n",
       "      <td>2</td>\n",
       "      <td>C</td>\n",
       "    </tr>\n",
       "    <tr>\n",
       "      <td>9</td>\n",
       "      <td>5.8</td>\n",
       "      <td>besar</td>\n",
       "      <td>biru</td>\n",
       "      <td>24</td>\n",
       "      <td>52.0</td>\n",
       "      <td>3</td>\n",
       "      <td>B</td>\n",
       "    </tr>\n",
       "    <tr>\n",
       "      <td>10</td>\n",
       "      <td>3.9</td>\n",
       "      <td>NaN</td>\n",
       "      <td>hijau</td>\n",
       "      <td>48</td>\n",
       "      <td>81.0</td>\n",
       "      <td>3</td>\n",
       "      <td>A</td>\n",
       "    </tr>\n",
       "  </tbody>\n",
       "</table>\n",
       "</div>"
      ],
      "text/plain": [
       "    att1    att2   att3  att4  att5  att6 class\n",
       "0    2.5   besar  hijau    48  77.0     3     A\n",
       "1    NaN   besar  hijau    36  62.0     3     B\n",
       "2    1.2   besar  merah    36  63.0     3     A\n",
       "3    8.2  sedang   biru    12  32.0     2     C\n",
       "4    4.4  sedang  merah    36  74.0     3     A\n",
       "5    5.7   kecil  hijau    24  42.0     3     B\n",
       "6    7.7   kecil  merah    12  20.0     2     C\n",
       "7    8.5  sedang  merah    24   NaN     3     C\n",
       "8   10.9   besar   biru    12  16.0     2     C\n",
       "9    5.8   besar   biru    24  52.0     3     B\n",
       "10   3.9     NaN  hijau    48  81.0     3     A"
      ]
     },
     "execution_count": 143,
     "metadata": {},
     "output_type": "execute_result"
    }
   ],
   "source": [
    "train"
   ]
  },
  {
   "cell_type": "markdown",
   "metadata": {},
   "source": [
    "## Deteksi Missing Value"
   ]
  },
  {
   "cell_type": "code",
   "execution_count": 144,
   "metadata": {},
   "outputs": [
    {
     "name": "stdout",
     "output_type": "stream",
     "text": [
      "0      2.5\n",
      "1      NaN\n",
      "2      1.2\n",
      "3      8.2\n",
      "4      4.4\n",
      "5      5.7\n",
      "6      7.7\n",
      "7      8.5\n",
      "8     10.9\n",
      "9      5.8\n",
      "10     3.9\n",
      "Name: att1, dtype: float64\n",
      "0     False\n",
      "1      True\n",
      "2     False\n",
      "3     False\n",
      "4     False\n",
      "5     False\n",
      "6     False\n",
      "7     False\n",
      "8     False\n",
      "9     False\n",
      "10    False\n",
      "Name: att1, dtype: bool\n",
      "0      besar\n",
      "1      besar\n",
      "2      besar\n",
      "3     sedang\n",
      "4     sedang\n",
      "5      kecil\n",
      "6      kecil\n",
      "7     sedang\n",
      "8      besar\n",
      "9      besar\n",
      "10       NaN\n",
      "Name: att2, dtype: object\n",
      "0     False\n",
      "1     False\n",
      "2     False\n",
      "3     False\n",
      "4     False\n",
      "5     False\n",
      "6     False\n",
      "7     False\n",
      "8     False\n",
      "9     False\n",
      "10     True\n",
      "Name: att2, dtype: bool\n",
      "0     hijau\n",
      "1     hijau\n",
      "2     merah\n",
      "3      biru\n",
      "4     merah\n",
      "5     hijau\n",
      "6     merah\n",
      "7     merah\n",
      "8      biru\n",
      "9      biru\n",
      "10    hijau\n",
      "Name: att3, dtype: object\n",
      "0     False\n",
      "1     False\n",
      "2     False\n",
      "3     False\n",
      "4     False\n",
      "5     False\n",
      "6     False\n",
      "7     False\n",
      "8     False\n",
      "9     False\n",
      "10    False\n",
      "Name: att3, dtype: bool\n",
      "0     48\n",
      "1     36\n",
      "2     36\n",
      "3     12\n",
      "4     36\n",
      "5     24\n",
      "6     12\n",
      "7     24\n",
      "8     12\n",
      "9     24\n",
      "10    48\n",
      "Name: att4, dtype: int64\n",
      "0     False\n",
      "1     False\n",
      "2     False\n",
      "3     False\n",
      "4     False\n",
      "5     False\n",
      "6     False\n",
      "7     False\n",
      "8     False\n",
      "9     False\n",
      "10    False\n",
      "Name: att4, dtype: bool\n",
      "0     77.0\n",
      "1     62.0\n",
      "2     63.0\n",
      "3     32.0\n",
      "4     74.0\n",
      "5     42.0\n",
      "6     20.0\n",
      "7      NaN\n",
      "8     16.0\n",
      "9     52.0\n",
      "10    81.0\n",
      "Name: att5, dtype: float64\n",
      "0     False\n",
      "1     False\n",
      "2     False\n",
      "3     False\n",
      "4     False\n",
      "5     False\n",
      "6     False\n",
      "7      True\n",
      "8     False\n",
      "9     False\n",
      "10    False\n",
      "Name: att5, dtype: bool\n",
      "0     3\n",
      "1     3\n",
      "2     3\n",
      "3     2\n",
      "4     3\n",
      "5     3\n",
      "6     2\n",
      "7     3\n",
      "8     2\n",
      "9     3\n",
      "10    3\n",
      "Name: att6, dtype: int64\n",
      "0     False\n",
      "1     False\n",
      "2     False\n",
      "3     False\n",
      "4     False\n",
      "5     False\n",
      "6     False\n",
      "7     False\n",
      "8     False\n",
      "9     False\n",
      "10    False\n",
      "Name: att6, dtype: bool\n",
      "att1     1\n",
      "att2     1\n",
      "att3     0\n",
      "att4     0\n",
      "att5     1\n",
      "att6     0\n",
      "class    0\n",
      "dtype: int64\n"
     ]
    }
   ],
   "source": [
    "print (train['att1'])\n",
    "print (train['att1'].isnull())\n",
    "print (train['att2'])\n",
    "print (train['att2'].isnull())\n",
    "print (train['att3'])\n",
    "print (train['att3'].isnull())\n",
    "print (train['att4'])\n",
    "print (train['att4'].isnull())\n",
    "print (train['att5'])\n",
    "print (train['att5'].isnull())\n",
    "print (train['att6'])\n",
    "print (train['att6'].isnull())\n",
    "print (train.isnull().sum())"
   ]
  },
  {
   "cell_type": "markdown",
   "metadata": {},
   "source": [
    "## Korelasi Data"
   ]
  },
  {
   "cell_type": "code",
   "execution_count": 145,
   "metadata": {},
   "outputs": [
    {
     "data": {
      "text/html": [
       "<div>\n",
       "<style scoped>\n",
       "    .dataframe tbody tr th:only-of-type {\n",
       "        vertical-align: middle;\n",
       "    }\n",
       "\n",
       "    .dataframe tbody tr th {\n",
       "        vertical-align: top;\n",
       "    }\n",
       "\n",
       "    .dataframe thead th {\n",
       "        text-align: right;\n",
       "    }\n",
       "</style>\n",
       "<table border=\"1\" class=\"dataframe\">\n",
       "  <thead>\n",
       "    <tr style=\"text-align: right;\">\n",
       "      <th></th>\n",
       "      <th>att1</th>\n",
       "      <th>att4</th>\n",
       "      <th>att5</th>\n",
       "      <th>att6</th>\n",
       "    </tr>\n",
       "  </thead>\n",
       "  <tbody>\n",
       "    <tr>\n",
       "      <td>att1</td>\n",
       "      <td>1.000000</td>\n",
       "      <td>-0.835726</td>\n",
       "      <td>-0.861561</td>\n",
       "      <td>-0.705669</td>\n",
       "    </tr>\n",
       "    <tr>\n",
       "      <td>att4</td>\n",
       "      <td>-0.835726</td>\n",
       "      <td>1.000000</td>\n",
       "      <td>0.962330</td>\n",
       "      <td>0.781929</td>\n",
       "    </tr>\n",
       "    <tr>\n",
       "      <td>att5</td>\n",
       "      <td>-0.861561</td>\n",
       "      <td>0.962330</td>\n",
       "      <td>1.000000</td>\n",
       "      <td>0.856644</td>\n",
       "    </tr>\n",
       "    <tr>\n",
       "      <td>att6</td>\n",
       "      <td>-0.705669</td>\n",
       "      <td>0.781929</td>\n",
       "      <td>0.856644</td>\n",
       "      <td>1.000000</td>\n",
       "    </tr>\n",
       "  </tbody>\n",
       "</table>\n",
       "</div>"
      ],
      "text/plain": [
       "          att1      att4      att5      att6\n",
       "att1  1.000000 -0.835726 -0.861561 -0.705669\n",
       "att4 -0.835726  1.000000  0.962330  0.781929\n",
       "att5 -0.861561  0.962330  1.000000  0.856644\n",
       "att6 -0.705669  0.781929  0.856644  1.000000"
      ]
     },
     "execution_count": 145,
     "metadata": {},
     "output_type": "execute_result"
    }
   ],
   "source": [
    "train.corr()"
   ]
  },
  {
   "cell_type": "code",
   "execution_count": 146,
   "metadata": {},
   "outputs": [
    {
     "data": {
      "image/png": "[encoded data removed]",
      "text/plain": [
       "<Figure size 288x288 with 2 Axes>"
      ]
     },
     "metadata": {
      "needs_background": "light"
     },
     "output_type": "display_data"
    }
   ],
   "source": [
    "plt.matshow(train.corr())\n",
    "plt.xticks(range(len(train.columns)-1), train.columns)\n",
    "plt.yticks(range(len(train.columns)-1), train.columns)\n",
    "plt.colorbar()\n",
    "plt.show()"
   ]
  },
  {
   "cell_type": "markdown",
   "metadata": {},
   "source": [
    "## Encoding Variabel Kategorik"
   ]
  },
  {
   "cell_type": "code",
   "execution_count": 147,
   "metadata": {},
   "outputs": [],
   "source": [
    "train['att2'] = train['att2'].replace({'besar': 1, 'sedang': 2, 'kecil': 3})\n",
    "train['att3'] = train['att3'].replace({'hijau': 1, 'merah': 2, 'biru': 3})\n",
    "train['class'] = train['class'].replace({'A': 1, 'B': 2, 'C': 3})"
   ]
  },
  {
   "cell_type": "code",
   "execution_count": 148,
   "metadata": {},
   "outputs": [
    {
     "data": {
      "text/html": [
       "<div>\n",
       "<style scoped>\n",
       "    .dataframe tbody tr th:only-of-type {\n",
       "        vertical-align: middle;\n",
       "    }\n",
       "\n",
       "    .dataframe tbody tr th {\n",
       "        vertical-align: top;\n",
       "    }\n",
       "\n",
       "    .dataframe thead th {\n",
       "        text-align: right;\n",
       "    }\n",
       "</style>\n",
       "<table border=\"1\" class=\"dataframe\">\n",
       "  <thead>\n",
       "    <tr style=\"text-align: right;\">\n",
       "      <th></th>\n",
       "      <th>att1</th>\n",
       "      <th>att2</th>\n",
       "      <th>att3</th>\n",
       "      <th>att4</th>\n",
       "      <th>att5</th>\n",
       "      <th>att6</th>\n",
       "      <th>class</th>\n",
       "    </tr>\n",
       "  </thead>\n",
       "  <tbody>\n",
       "    <tr>\n",
       "      <td>0</td>\n",
       "      <td>2.5</td>\n",
       "      <td>1.0</td>\n",
       "      <td>1</td>\n",
       "      <td>48</td>\n",
       "      <td>77.0</td>\n",
       "      <td>3</td>\n",
       "      <td>1</td>\n",
       "    </tr>\n",
       "    <tr>\n",
       "      <td>1</td>\n",
       "      <td>NaN</td>\n",
       "      <td>1.0</td>\n",
       "      <td>1</td>\n",
       "      <td>36</td>\n",
       "      <td>62.0</td>\n",
       "      <td>3</td>\n",
       "      <td>2</td>\n",
       "    </tr>\n",
       "    <tr>\n",
       "      <td>2</td>\n",
       "      <td>1.2</td>\n",
       "      <td>1.0</td>\n",
       "      <td>2</td>\n",
       "      <td>36</td>\n",
       "      <td>63.0</td>\n",
       "      <td>3</td>\n",
       "      <td>1</td>\n",
       "    </tr>\n",
       "    <tr>\n",
       "      <td>3</td>\n",
       "      <td>8.2</td>\n",
       "      <td>2.0</td>\n",
       "      <td>3</td>\n",
       "      <td>12</td>\n",
       "      <td>32.0</td>\n",
       "      <td>2</td>\n",
       "      <td>3</td>\n",
       "    </tr>\n",
       "    <tr>\n",
       "      <td>4</td>\n",
       "      <td>4.4</td>\n",
       "      <td>2.0</td>\n",
       "      <td>2</td>\n",
       "      <td>36</td>\n",
       "      <td>74.0</td>\n",
       "      <td>3</td>\n",
       "      <td>1</td>\n",
       "    </tr>\n",
       "    <tr>\n",
       "      <td>5</td>\n",
       "      <td>5.7</td>\n",
       "      <td>3.0</td>\n",
       "      <td>1</td>\n",
       "      <td>24</td>\n",
       "      <td>42.0</td>\n",
       "      <td>3</td>\n",
       "      <td>2</td>\n",
       "    </tr>\n",
       "    <tr>\n",
       "      <td>6</td>\n",
       "      <td>7.7</td>\n",
       "      <td>3.0</td>\n",
       "      <td>2</td>\n",
       "      <td>12</td>\n",
       "      <td>20.0</td>\n",
       "      <td>2</td>\n",
       "      <td>3</td>\n",
       "    </tr>\n",
       "    <tr>\n",
       "      <td>7</td>\n",
       "      <td>8.5</td>\n",
       "      <td>2.0</td>\n",
       "      <td>2</td>\n",
       "      <td>24</td>\n",
       "      <td>NaN</td>\n",
       "      <td>3</td>\n",
       "      <td>3</td>\n",
       "    </tr>\n",
       "    <tr>\n",
       "      <td>8</td>\n",
       "      <td>10.9</td>\n",
       "      <td>1.0</td>\n",
       "      <td>3</td>\n",
       "      <td>12</td>\n",
       "      <td>16.0</td>\n",
       "      <td>2</td>\n",
       "      <td>3</td>\n",
       "    </tr>\n",
       "    <tr>\n",
       "      <td>9</td>\n",
       "      <td>5.8</td>\n",
       "      <td>1.0</td>\n",
       "      <td>3</td>\n",
       "      <td>24</td>\n",
       "      <td>52.0</td>\n",
       "      <td>3</td>\n",
       "      <td>2</td>\n",
       "    </tr>\n",
       "    <tr>\n",
       "      <td>10</td>\n",
       "      <td>3.9</td>\n",
       "      <td>NaN</td>\n",
       "      <td>1</td>\n",
       "      <td>48</td>\n",
       "      <td>81.0</td>\n",
       "      <td>3</td>\n",
       "      <td>1</td>\n",
       "    </tr>\n",
       "  </tbody>\n",
       "</table>\n",
       "</div>"
      ],
      "text/plain": [
       "    att1  att2  att3  att4  att5  att6  class\n",
       "0    2.5   1.0     1    48  77.0     3      1\n",
       "1    NaN   1.0     1    36  62.0     3      2\n",
       "2    1.2   1.0     2    36  63.0     3      1\n",
       "3    8.2   2.0     3    12  32.0     2      3\n",
       "4    4.4   2.0     2    36  74.0     3      1\n",
       "5    5.7   3.0     1    24  42.0     3      2\n",
       "6    7.7   3.0     2    12  20.0     2      3\n",
       "7    8.5   2.0     2    24   NaN     3      3\n",
       "8   10.9   1.0     3    12  16.0     2      3\n",
       "9    5.8   1.0     3    24  52.0     3      2\n",
       "10   3.9   NaN     1    48  81.0     3      1"
      ]
     },
     "execution_count": 148,
     "metadata": {},
     "output_type": "execute_result"
    }
   ],
   "source": [
    "train"
   ]
  },
  {
   "cell_type": "markdown",
   "metadata": {},
   "source": [
    "## Handling Missing Value"
   ]
  },
  {
   "cell_type": "code",
   "execution_count": 149,
   "metadata": {},
   "outputs": [
    {
     "name": "stdout",
     "output_type": "stream",
     "text": [
      "<class 'pandas.core.frame.DataFrame'>\n",
      "RangeIndex: 11 entries, 0 to 10\n",
      "Data columns (total 7 columns):\n",
      "att1     10 non-null float64\n",
      "att2     10 non-null float64\n",
      "att3     11 non-null int64\n",
      "att4     11 non-null int64\n",
      "att5     10 non-null float64\n",
      "att6     11 non-null int64\n",
      "class    11 non-null int64\n",
      "dtypes: float64(3), int64(4)\n",
      "memory usage: 744.0 bytes\n"
     ]
    },
    {
     "data": {
      "text/html": [
       "<div>\n",
       "<style scoped>\n",
       "    .dataframe tbody tr th:only-of-type {\n",
       "        vertical-align: middle;\n",
       "    }\n",
       "\n",
       "    .dataframe tbody tr th {\n",
       "        vertical-align: top;\n",
       "    }\n",
       "\n",
       "    .dataframe thead th {\n",
       "        text-align: right;\n",
       "    }\n",
       "</style>\n",
       "<table border=\"1\" class=\"dataframe\">\n",
       "  <thead>\n",
       "    <tr style=\"text-align: right;\">\n",
       "      <th></th>\n",
       "      <th>att1</th>\n",
       "      <th>att2</th>\n",
       "      <th>att3</th>\n",
       "      <th>att4</th>\n",
       "      <th>att5</th>\n",
       "      <th>att6</th>\n",
       "      <th>class</th>\n",
       "    </tr>\n",
       "  </thead>\n",
       "  <tbody>\n",
       "    <tr>\n",
       "      <td>0</td>\n",
       "      <td>2.50</td>\n",
       "      <td>1.0</td>\n",
       "      <td>1</td>\n",
       "      <td>48</td>\n",
       "      <td>77.0</td>\n",
       "      <td>3</td>\n",
       "      <td>1</td>\n",
       "    </tr>\n",
       "    <tr>\n",
       "      <td>1</td>\n",
       "      <td>5.75</td>\n",
       "      <td>1.0</td>\n",
       "      <td>1</td>\n",
       "      <td>36</td>\n",
       "      <td>62.0</td>\n",
       "      <td>3</td>\n",
       "      <td>2</td>\n",
       "    </tr>\n",
       "    <tr>\n",
       "      <td>2</td>\n",
       "      <td>1.20</td>\n",
       "      <td>1.0</td>\n",
       "      <td>2</td>\n",
       "      <td>36</td>\n",
       "      <td>63.0</td>\n",
       "      <td>3</td>\n",
       "      <td>1</td>\n",
       "    </tr>\n",
       "    <tr>\n",
       "      <td>3</td>\n",
       "      <td>8.20</td>\n",
       "      <td>2.0</td>\n",
       "      <td>3</td>\n",
       "      <td>12</td>\n",
       "      <td>32.0</td>\n",
       "      <td>2</td>\n",
       "      <td>3</td>\n",
       "    </tr>\n",
       "    <tr>\n",
       "      <td>4</td>\n",
       "      <td>4.40</td>\n",
       "      <td>2.0</td>\n",
       "      <td>2</td>\n",
       "      <td>36</td>\n",
       "      <td>74.0</td>\n",
       "      <td>3</td>\n",
       "      <td>1</td>\n",
       "    </tr>\n",
       "    <tr>\n",
       "      <td>5</td>\n",
       "      <td>5.70</td>\n",
       "      <td>3.0</td>\n",
       "      <td>1</td>\n",
       "      <td>24</td>\n",
       "      <td>42.0</td>\n",
       "      <td>3</td>\n",
       "      <td>2</td>\n",
       "    </tr>\n",
       "    <tr>\n",
       "      <td>6</td>\n",
       "      <td>7.70</td>\n",
       "      <td>3.0</td>\n",
       "      <td>2</td>\n",
       "      <td>12</td>\n",
       "      <td>20.0</td>\n",
       "      <td>2</td>\n",
       "      <td>3</td>\n",
       "    </tr>\n",
       "    <tr>\n",
       "      <td>7</td>\n",
       "      <td>8.50</td>\n",
       "      <td>2.0</td>\n",
       "      <td>2</td>\n",
       "      <td>24</td>\n",
       "      <td>57.0</td>\n",
       "      <td>3</td>\n",
       "      <td>3</td>\n",
       "    </tr>\n",
       "    <tr>\n",
       "      <td>8</td>\n",
       "      <td>10.90</td>\n",
       "      <td>1.0</td>\n",
       "      <td>3</td>\n",
       "      <td>12</td>\n",
       "      <td>16.0</td>\n",
       "      <td>2</td>\n",
       "      <td>3</td>\n",
       "    </tr>\n",
       "    <tr>\n",
       "      <td>9</td>\n",
       "      <td>5.80</td>\n",
       "      <td>1.0</td>\n",
       "      <td>3</td>\n",
       "      <td>24</td>\n",
       "      <td>52.0</td>\n",
       "      <td>3</td>\n",
       "      <td>2</td>\n",
       "    </tr>\n",
       "    <tr>\n",
       "      <td>10</td>\n",
       "      <td>3.90</td>\n",
       "      <td>1.5</td>\n",
       "      <td>1</td>\n",
       "      <td>48</td>\n",
       "      <td>81.0</td>\n",
       "      <td>3</td>\n",
       "      <td>1</td>\n",
       "    </tr>\n",
       "  </tbody>\n",
       "</table>\n",
       "</div>"
      ],
      "text/plain": [
       "     att1  att2  att3  att4  att5  att6  class\n",
       "0    2.50   1.0     1    48  77.0     3      1\n",
       "1    5.75   1.0     1    36  62.0     3      2\n",
       "2    1.20   1.0     2    36  63.0     3      1\n",
       "3    8.20   2.0     3    12  32.0     2      3\n",
       "4    4.40   2.0     2    36  74.0     3      1\n",
       "5    5.70   3.0     1    24  42.0     3      2\n",
       "6    7.70   3.0     2    12  20.0     2      3\n",
       "7    8.50   2.0     2    24  57.0     3      3\n",
       "8   10.90   1.0     3    12  16.0     2      3\n",
       "9    5.80   1.0     3    24  52.0     3      2\n",
       "10   3.90   1.5     1    48  81.0     3      1"
      ]
     },
     "execution_count": 149,
     "metadata": {},
     "output_type": "execute_result"
    }
   ],
   "source": [
    "from sklearn.preprocessing import MinMaxScaler\n",
    "train.info()\n",
    "train = train.fillna({'att1':train['att1'].median()})\n",
    "train = train.fillna({'att2':train['att2'].median()})\n",
    "train = train.fillna({'att5':train['att5'].median()})\n",
    "train"
   ]
  },
  {
   "cell_type": "markdown",
   "metadata": {},
   "source": [
    "## Outlier Boxplot "
   ]
  },
  {
   "cell_type": "code",
   "execution_count": 150,
   "metadata": {},
   "outputs": [
    {
     "data": {
      "image/png": "[encoded data removed]",
      "text/plain": [
       "<Figure size 432x288 with 1 Axes>"
      ]
     },
     "metadata": {
      "needs_background": "light"
     },
     "output_type": "display_data"
    }
   ],
   "source": [
    "import matplotlib.pyplot as plt\n",
    "plt.boxplot(train['att4'])\n",
    "plt.show()"
   ]
  },
  {
   "cell_type": "code",
   "execution_count": 151,
   "metadata": {},
   "outputs": [
    {
     "data": {
      "image/png": "[encoded data removed]",
      "text/plain": [
       "<Figure size 432x288 with 1 Axes>"
      ]
     },
     "metadata": {
      "needs_background": "light"
     },
     "output_type": "display_data"
    }
   ],
   "source": [
    "plt.boxplot(train['att1'])\n",
    "plt.show()"
   ]
  },
  {
   "cell_type": "code",
   "execution_count": 152,
   "metadata": {},
   "outputs": [
    {
     "data": {
      "image/png": "[encoded data removed]",
      "text/plain": [
       "<Figure size 432x288 with 1 Axes>"
      ]
     },
     "metadata": {
      "needs_background": "light"
     },
     "output_type": "display_data"
    }
   ],
   "source": [
    "plt.boxplot(train['att5'])\n",
    "plt.show()"
   ]
  },
  {
   "cell_type": "markdown",
   "metadata": {},
   "source": [
    "## Split Data "
   ]
  },
  {
   "cell_type": "code",
   "execution_count": 153,
   "metadata": {},
   "outputs": [
    {
     "data": {
      "text/plain": [
       "array([[ 7.7,  3. ,  2. , 12. , 20. ,  2. ],\n",
       "       [ 3.9,  1.5,  1. , 48. , 81. ,  3. ],\n",
       "       [ 2.5,  1. ,  1. , 48. , 77. ,  3. ],\n",
       "       [ 5.8,  1. ,  3. , 24. , 52. ,  3. ],\n",
       "       [ 8.2,  2. ,  3. , 12. , 32. ,  2. ],\n",
       "       [ 1.2,  1. ,  2. , 36. , 63. ,  3. ],\n",
       "       [10.9,  1. ,  3. , 12. , 16. ,  2. ],\n",
       "       [ 8.5,  2. ,  2. , 24. , 57. ,  3. ]])"
      ]
     },
     "execution_count": 153,
     "metadata": {},
     "output_type": "execute_result"
    }
   ],
   "source": [
    "from sklearn.model_selection import train_test_split\n",
    "from sklearn.datasets import load_iris\n",
    "X = train.iloc[:, :-1].values\n",
    "y = train.iloc[:, 6].values\n",
    "X_train, X_test, y_train, y_test = train_test_split(X, y, test_size=0.20)\n",
    "X_train\n"
   ]
  },
  {
   "cell_type": "code",
   "execution_count": 154,
   "metadata": {},
   "outputs": [
    {
     "data": {
      "text/plain": [
       "(8, 6)"
      ]
     },
     "execution_count": 154,
     "metadata": {},
     "output_type": "execute_result"
    }
   ],
   "source": [
    "X_train.shape"
   ]
  },
  {
   "cell_type": "code",
   "execution_count": 155,
   "metadata": {},
   "outputs": [
    {
     "data": {
      "text/plain": [
       "array([[ 5.75,  1.  ,  1.  , 36.  , 62.  ,  3.  ],\n",
       "       [ 5.7 ,  3.  ,  1.  , 24.  , 42.  ,  3.  ],\n",
       "       [ 4.4 ,  2.  ,  2.  , 36.  , 74.  ,  3.  ]])"
      ]
     },
     "execution_count": 155,
     "metadata": {},
     "output_type": "execute_result"
    }
   ],
   "source": [
    "X_test"
   ]
  },
  {
   "cell_type": "code",
   "execution_count": 156,
   "metadata": {},
   "outputs": [
    {
     "data": {
      "text/plain": [
       "(3, 6)"
      ]
     },
     "execution_count": 156,
     "metadata": {},
     "output_type": "execute_result"
    }
   ],
   "source": [
    "X_test.shape"
   ]
  },
  {
   "cell_type": "code",
   "execution_count": 157,
   "metadata": {},
   "outputs": [
    {
     "data": {
      "text/plain": [
       "array([3, 1, 1, 2, 3, 1, 3, 3], dtype=int64)"
      ]
     },
     "execution_count": 157,
     "metadata": {},
     "output_type": "execute_result"
    }
   ],
   "source": [
    "y_train"
   ]
  },
  {
   "cell_type": "code",
   "execution_count": 158,
   "metadata": {},
   "outputs": [
    {
     "data": {
      "text/plain": [
       "(8,)"
      ]
     },
     "execution_count": 158,
     "metadata": {},
     "output_type": "execute_result"
    }
   ],
   "source": [
    "y_train.shape"
   ]
  },
  {
   "cell_type": "code",
   "execution_count": 159,
   "metadata": {},
   "outputs": [
    {
     "data": {
      "text/plain": [
       "array([2, 2, 1], dtype=int64)"
      ]
     },
     "execution_count": 159,
     "metadata": {},
     "output_type": "execute_result"
    }
   ],
   "source": [
    "y_test"
   ]
  },
  {
   "cell_type": "code",
   "execution_count": 160,
   "metadata": {},
   "outputs": [
    {
     "data": {
      "text/plain": [
       "(3,)"
      ]
     },
     "execution_count": 160,
     "metadata": {},
     "output_type": "execute_result"
    }
   ],
   "source": [
    "y_test.shape"
   ]
  },
  {
   "cell_type": "code",
   "execution_count": 161,
   "metadata": {},
   "outputs": [
    {
     "data": {
      "text/plain": [
       "<matplotlib.collections.PathCollection at 0x18431243e88>"
      ]
     },
     "execution_count": 161,
     "metadata": {},
     "output_type": "execute_result"
    },
    {
     "data": {
      "image/png": "[encoded data removed]",
      "text/plain": [
       "<Figure size 432x288 with 1 Axes>"
      ]
     },
     "metadata": {
      "needs_background": "light"
     },
     "output_type": "display_data"
    }
   ],
   "source": [
    "from sklearn.linear_model import LinearRegression as lm\n",
    "model=lm().fit(X_train,y_train)\n",
    "predictions=model.predict(X_test)\n",
    "import matplotlib.pyplot as plt\n",
    "plt.scatter(y_test,predictions)"
   ]
  },
  {
   "cell_type": "markdown",
   "metadata": {},
   "source": [
    "## Scaling"
   ]
  },
  {
   "cell_type": "code",
   "execution_count": 162,
   "metadata": {},
   "outputs": [
    {
     "name": "stdout",
     "output_type": "stream",
     "text": [
      "[[ 0.51751335  2.10840654 -0.16012815 -1.04257207 -1.28448017 -1.29099445]\n",
      " [-0.702053   -0.09166985 -1.44115338  1.4596009   1.34924388  0.77459667]\n",
      " [-1.15136691 -0.82502865 -1.44115338  1.4596009   1.17654066  0.77459667]\n",
      " [-0.09226982 -0.82502865  1.12089708 -0.20851441  0.09714556  0.77459667]\n",
      " [ 0.67798261  0.64168895  1.12089708 -1.04257207 -0.76637052 -1.29099445]\n",
      " [-1.56858698 -0.82502865 -0.16012815  0.62554324  0.5720794   0.77459667]\n",
      " [ 1.54451659 -0.82502865  1.12089708 -1.04257207 -1.45718339 -1.29099445]\n",
      " [ 0.77426416  0.64168895 -0.16012815 -0.20851441  0.31302458  0.77459667]]\n",
      "[[-0.10831675 -0.82502865 -1.44115338  0.62554324  0.5289036   0.77459667]\n",
      " [-0.12436367  2.10840654 -1.44115338 -0.20851441 -0.33461248  0.77459667]\n",
      " [-0.54158374  0.64168895 -0.16012815  0.62554324  1.04701325  0.77459667]]\n"
     ]
    }
   ],
   "source": [
    "from sklearn.preprocessing import StandardScaler\n",
    "scaler = StandardScaler()\n",
    "scaler.fit(X_train)\n",
    "\n",
    "X_train = scaler.transform(X_train)\n",
    "X_test = scaler.transform(X_test)\n",
    "print(X_train)\n",
    "print(X_test)\n",
    "\n"
   ]
  },
  {
   "cell_type": "markdown",
   "metadata": {},
   "source": [
    "## Implementasi KNN "
   ]
  },
  {
   "cell_type": "code",
   "execution_count": 163,
   "metadata": {},
   "outputs": [
    {
     "data": {
      "text/plain": [
       "array([1, 3, 1], dtype=int64)"
      ]
     },
     "execution_count": 163,
     "metadata": {},
     "output_type": "execute_result"
    }
   ],
   "source": [
    "from sklearn.neighbors import KNeighborsClassifier\n",
    "classifier = KNeighborsClassifier(n_neighbors=3)\n",
    "classifier.fit(X_train, y_train)\n",
    "y_pred = classifier.predict(X_test)\n",
    "y_pred"
   ]
  },
  {
   "cell_type": "markdown",
   "metadata": {},
   "source": [
    "## Evaluasi Performansi"
   ]
  },
  {
   "cell_type": "code",
   "execution_count": 164,
   "metadata": {},
   "outputs": [
    {
     "name": "stdout",
     "output_type": "stream",
     "text": [
      "[[1 0 0]\n",
      " [1 0 1]\n",
      " [0 0 0]]\n",
      "              precision    recall  f1-score   support\n",
      "\n",
      "           1       0.50      1.00      0.67         1\n",
      "           2       0.00      0.00      0.00         2\n",
      "           3       0.00      0.00      0.00         0\n",
      "\n",
      "    accuracy                           0.33         3\n",
      "   macro avg       0.17      0.33      0.22         3\n",
      "weighted avg       0.17      0.33      0.22         3\n",
      "\n",
      "Accuracy: 0.3333333333333333\n"
     ]
    },
    {
     "name": "stderr",
     "output_type": "stream",
     "text": [
      "C:\\Users\\Lenovo\\Anaconda3\\lib\\site-packages\\sklearn\\metrics\\classification.py:1437: UndefinedMetricWarning: Precision and F-score are ill-defined and being set to 0.0 in labels with no predicted samples.\n",
      "  'precision', 'predicted', average, warn_for)\n",
      "C:\\Users\\Lenovo\\Anaconda3\\lib\\site-packages\\sklearn\\metrics\\classification.py:1439: UndefinedMetricWarning: Recall and F-score are ill-defined and being set to 0.0 in labels with no true samples.\n",
      "  'recall', 'true', average, warn_for)\n"
     ]
    }
   ],
   "source": [
    "from sklearn.metrics import classification_report, confusion_matrix\n",
    "from sklearn.metrics import accuracy_score\n",
    "from sklearn import metrics\n",
    "print(confusion_matrix(y_test, y_pred))\n",
    "print(classification_report(y_test, y_pred))\n",
    "print(\"Accuracy:\",metrics.accuracy_score(y_test, y_pred))"
   ]
  },
  {
   "cell_type": "markdown",
   "metadata": {},
   "source": [
    "# Prediksi Data Test "
   ]
  },
  {
   "cell_type": "code",
   "execution_count": 165,
   "metadata": {},
   "outputs": [
    {
     "data": {
      "text/html": [
       "<div>\n",
       "<style scoped>\n",
       "    .dataframe tbody tr th:only-of-type {\n",
       "        vertical-align: middle;\n",
       "    }\n",
       "\n",
       "    .dataframe tbody tr th {\n",
       "        vertical-align: top;\n",
       "    }\n",
       "\n",
       "    .dataframe thead th {\n",
       "        text-align: right;\n",
       "    }\n",
       "</style>\n",
       "<table border=\"1\" class=\"dataframe\">\n",
       "  <thead>\n",
       "    <tr style=\"text-align: right;\">\n",
       "      <th></th>\n",
       "      <th>att1</th>\n",
       "      <th>att2</th>\n",
       "      <th>att3</th>\n",
       "      <th>att4</th>\n",
       "      <th>att5</th>\n",
       "      <th>att6</th>\n",
       "      <th>class</th>\n",
       "    </tr>\n",
       "  </thead>\n",
       "  <tbody>\n",
       "    <tr>\n",
       "      <td>0</td>\n",
       "      <td>2.2</td>\n",
       "      <td>2</td>\n",
       "      <td>2</td>\n",
       "      <td>24</td>\n",
       "      <td>91</td>\n",
       "      <td>3</td>\n",
       "      <td>NaN</td>\n",
       "    </tr>\n",
       "    <tr>\n",
       "      <td>1</td>\n",
       "      <td>4.5</td>\n",
       "      <td>3</td>\n",
       "      <td>3</td>\n",
       "      <td>24</td>\n",
       "      <td>33</td>\n",
       "      <td>3</td>\n",
       "      <td>NaN</td>\n",
       "    </tr>\n",
       "    <tr>\n",
       "      <td>2</td>\n",
       "      <td>6.3</td>\n",
       "      <td>2</td>\n",
       "      <td>2</td>\n",
       "      <td>24</td>\n",
       "      <td>22</td>\n",
       "      <td>2</td>\n",
       "      <td>NaN</td>\n",
       "    </tr>\n",
       "    <tr>\n",
       "      <td>3</td>\n",
       "      <td>2.9</td>\n",
       "      <td>1</td>\n",
       "      <td>3</td>\n",
       "      <td>36</td>\n",
       "      <td>76</td>\n",
       "      <td>3</td>\n",
       "      <td>NaN</td>\n",
       "    </tr>\n",
       "    <tr>\n",
       "      <td>4</td>\n",
       "      <td>5.6</td>\n",
       "      <td>3</td>\n",
       "      <td>2</td>\n",
       "      <td>24</td>\n",
       "      <td>68</td>\n",
       "      <td>3</td>\n",
       "      <td>NaN</td>\n",
       "    </tr>\n",
       "    <tr>\n",
       "      <td>5</td>\n",
       "      <td>7.5</td>\n",
       "      <td>3</td>\n",
       "      <td>1</td>\n",
       "      <td>24</td>\n",
       "      <td>32</td>\n",
       "      <td>3</td>\n",
       "      <td>NaN</td>\n",
       "    </tr>\n",
       "  </tbody>\n",
       "</table>\n",
       "</div>"
      ],
      "text/plain": [
       "   att1  att2  att3  att4  att5  att6  class\n",
       "0   2.2     2     2    24    91     3    NaN\n",
       "1   4.5     3     3    24    33     3    NaN\n",
       "2   6.3     2     2    24    22     2    NaN\n",
       "3   2.9     1     3    36    76     3    NaN\n",
       "4   5.6     3     2    24    68     3    NaN\n",
       "5   7.5     3     1    24    32     3    NaN"
      ]
     },
     "execution_count": 165,
     "metadata": {},
     "output_type": "execute_result"
    }
   ],
   "source": [
    "test['att2'] = test['att2'].replace({'besar': 1, 'sedang': 2, 'kecil': 3})\n",
    "test['att3'] = test['att3'].replace({'hijau': 1, 'merah': 2, 'biru': 3})\n",
    "test"
   ]
  },
  {
   "cell_type": "code",
   "execution_count": 166,
   "metadata": {},
   "outputs": [
    {
     "data": {
      "text/html": [
       "<div>\n",
       "<style scoped>\n",
       "    .dataframe tbody tr th:only-of-type {\n",
       "        vertical-align: middle;\n",
       "    }\n",
       "\n",
       "    .dataframe tbody tr th {\n",
       "        vertical-align: top;\n",
       "    }\n",
       "\n",
       "    .dataframe thead th {\n",
       "        text-align: right;\n",
       "    }\n",
       "</style>\n",
       "<table border=\"1\" class=\"dataframe\">\n",
       "  <thead>\n",
       "    <tr style=\"text-align: right;\">\n",
       "      <th></th>\n",
       "      <th>att1</th>\n",
       "      <th>att2</th>\n",
       "      <th>att3</th>\n",
       "      <th>att4</th>\n",
       "      <th>att5</th>\n",
       "      <th>att6</th>\n",
       "      <th>class</th>\n",
       "    </tr>\n",
       "  </thead>\n",
       "  <tbody>\n",
       "    <tr>\n",
       "      <td>0</td>\n",
       "      <td>2.2</td>\n",
       "      <td>2</td>\n",
       "      <td>2</td>\n",
       "      <td>24</td>\n",
       "      <td>91</td>\n",
       "      <td>3</td>\n",
       "      <td>NaN</td>\n",
       "    </tr>\n",
       "    <tr>\n",
       "      <td>1</td>\n",
       "      <td>4.5</td>\n",
       "      <td>3</td>\n",
       "      <td>3</td>\n",
       "      <td>24</td>\n",
       "      <td>33</td>\n",
       "      <td>3</td>\n",
       "      <td>NaN</td>\n",
       "    </tr>\n",
       "    <tr>\n",
       "      <td>2</td>\n",
       "      <td>6.3</td>\n",
       "      <td>2</td>\n",
       "      <td>2</td>\n",
       "      <td>24</td>\n",
       "      <td>22</td>\n",
       "      <td>2</td>\n",
       "      <td>NaN</td>\n",
       "    </tr>\n",
       "    <tr>\n",
       "      <td>3</td>\n",
       "      <td>2.9</td>\n",
       "      <td>1</td>\n",
       "      <td>3</td>\n",
       "      <td>36</td>\n",
       "      <td>76</td>\n",
       "      <td>3</td>\n",
       "      <td>NaN</td>\n",
       "    </tr>\n",
       "    <tr>\n",
       "      <td>4</td>\n",
       "      <td>5.6</td>\n",
       "      <td>3</td>\n",
       "      <td>2</td>\n",
       "      <td>24</td>\n",
       "      <td>68</td>\n",
       "      <td>3</td>\n",
       "      <td>NaN</td>\n",
       "    </tr>\n",
       "    <tr>\n",
       "      <td>5</td>\n",
       "      <td>7.5</td>\n",
       "      <td>3</td>\n",
       "      <td>1</td>\n",
       "      <td>24</td>\n",
       "      <td>32</td>\n",
       "      <td>3</td>\n",
       "      <td>NaN</td>\n",
       "    </tr>\n",
       "  </tbody>\n",
       "</table>\n",
       "</div>"
      ],
      "text/plain": [
       "   att1  att2  att3  att4  att5  att6  class\n",
       "0   2.2     2     2    24    91     3    NaN\n",
       "1   4.5     3     3    24    33     3    NaN\n",
       "2   6.3     2     2    24    22     2    NaN\n",
       "3   2.9     1     3    36    76     3    NaN\n",
       "4   5.6     3     2    24    68     3    NaN\n",
       "5   7.5     3     1    24    32     3    NaN"
      ]
     },
     "execution_count": 166,
     "metadata": {},
     "output_type": "execute_result"
    }
   ],
   "source": [
    "test"
   ]
  },
  {
   "cell_type": "code",
   "execution_count": 167,
   "metadata": {},
   "outputs": [
    {
     "data": {
      "text/plain": [
       "array([1, 1, 3, 1, 1, 3], dtype=int64)"
      ]
     },
     "execution_count": 167,
     "metadata": {},
     "output_type": "execute_result"
    }
   ],
   "source": [
    "X_train = train.iloc[:, :-1].values\n",
    "X_test = test.iloc[:, :-1].values\n",
    "y_train = train.iloc[:, 6].values\n",
    "y_test = test.iloc[:, 6].values\n",
    "\n",
    "X_train = scaler.transform(X_train)\n",
    "X_test = scaler.transform(X_test)\n",
    "\n",
    "classifier = KNeighborsClassifier(n_neighbors=3)\n",
    "classifier.fit(X_train, y_train)\n",
    "y_pred = classifier.predict(X_test)\n",
    "y_pred"
   ]
  },
  {
   "cell_type": "code",
   "execution_count": 168,
   "metadata": {},
   "outputs": [
    {
     "data": {
      "image/png": "[encoded data removed]",
      "text/plain": [
       "<Figure size 432x288 with 1 Axes>"
      ]
     },
     "metadata": {
      "needs_background": "light"
     },
     "output_type": "display_data"
    }
   ],
   "source": [
    "plt.scatter(y_test, y_pred, color='blue')\n",
    "plt.plot(y_pred, color='red', linewidth=1)\n",
    "plt.title('Test Result')\n",
    "plt.xlabel('Real values')\n",
    "plt.ylabel('Prediction')\n",
    "plt.show()"
   ]
  }
 ],
 "metadata": {
  "kernelspec": {
   "display_name": "Python 3",
   "language": "python",
   "name": "python3"
  },
  "language_info": {
   "codemirror_mode": {
    "name": "ipython",
    "version": 3
   },
   "file_extension": ".py",
   "mimetype": "text/x-python",
   "name": "python",
   "nbconvert_exporter": "python",
   "pygments_lexer": "ipython3",
   "version": "3.7.6"
  }
 },
 "nbformat": 4,
 "nbformat_minor": 2
}
